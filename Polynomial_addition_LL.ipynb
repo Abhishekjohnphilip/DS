class Node:
    def __init__(self, coefficient, exponent):
        self.coefficient = coefficient
        self.exponent = exponent
        self.next = None


class Polynomial:
    def __init__(self):
        self.start = None

    def insert_term(self, coefficient, exponent):
        """Insert a term in descending order of exponents"""
        new_node = Node(coefficient, exponent)

        # If list is empty or new exponent is greater than start exponent
        if self.start is None or self.start.exponent < exponent:
            new_node.next = self.start
            self.start = new_node
        else:
            current = self.start
            prev = None
            while current is not None and current.exponent > exponent:
                prev = current
                current = current.next

            if current is not None and current.exponent == exponent:
                current.coefficient += coefficient
                if current.coefficient == 0:  # Remove zero coefficient nodes
                    if prev:
                        prev.next = current.next
                    else:
                        self.start = current.next
            else:
                new_node.next = current
                if prev:
                    prev.next = new_node
                else:
                    self.start = new_node

    def create_polynomial(self, terms):
        """Create a polynomial from a list of (coefficient, exponent) tuples"""
        for coeff, exp in terms:
            self.insert_term(coeff, exp)

    def add_polynomials(self, other_poly):
        """Add two polynomials and return a new polynomial"""
        result = Polynomial()
        current1 = self.start
        current2 = other_poly.start

        while current1 is not None and current2 is not None:
            if current1.exponent > current2.exponent:
                result.insert_term(current1.coefficient, current1.exponent)
                current1 = current1.next
            elif current1.exponent < current2.exponent:
                result.insert_term(current2.coefficient, current2.exponent)
                current2 = current2.next
            else:
                sum_coeff = current1.coefficient + current2.coefficient
                if sum_coeff != 0:
                    result.insert_term(sum_coeff, current1.exponent)
                current1 = current1.next
                current2 = current2.next

        while current1 is not None:
            result.insert_term(current1.coefficient, current1.exponent)
            current1 = current1.next

        while current2 is not None:
            result.insert_term(current2.coefficient, current2.exponent)
            current2 = current2.next

        return result

    def display(self):
        """Display the polynomial in readable format"""
        if self.start is None:
            print("0")
            return

        current = self.start
        terms = []

        while current is not None:
            coeff = current.coefficient
            exp = current.exponent

            if coeff == 0:
                current = current.next
                continue

            if exp == 0:
                term = f"{coeff}"
            elif exp == 1:
                if coeff == 1:
                    term = "x"
                elif coeff == -1:
                    term = "-x"
                else:
                    term = f"{coeff}x"
            else:
                if coeff == 1:
                    term = f"x^{exp}"
                elif coeff == -1:
                    term = f"-x^{exp}"
                else:
                    term = f"{coeff}x^{exp}"

            terms.append(term)
            current = current.next

        poly_str = " + ".join(terms).replace("+ -", "- ")
        print(poly_str)


# Example usage
def main():
    poly1 = Polynomial()
    poly1.create_polynomial([(3, 3), (2, 2), (5, 1), (1, 0)])

    poly2 = Polynomial()
    poly2.create_polynomial([(4, 3), (3, 2), (2, 1), (7, 0)])

    poly3 = Polynomial()
    poly3.create_polynomial([(2, 5), (-1, 3), (4, 1)])

    print("Polynomial 1: ", end="")
    poly1.display()

    print("Polynomial 2: ", end="")
    poly2.display()

    print("Polynomial 3: ", end="")
    poly3.display()

    # Add polynomials
    print("\nAddition Results:")

    result1 = poly1.add_polynomials(poly2)
    print("Polynomial 1 + Polynomial 2: ", end="")
    result1.display()

    result2 = poly2.add_polynomials(poly3)
    print("Polynomial 2 + Polynomial 3: ", end="")
    result2.display()

    result3 = poly1.add_polynomials(poly3)
    print("Polynomial 1 + Polynomial 3: ", end="")
    result3.display()


if __name__ == "__main__":
    main()
